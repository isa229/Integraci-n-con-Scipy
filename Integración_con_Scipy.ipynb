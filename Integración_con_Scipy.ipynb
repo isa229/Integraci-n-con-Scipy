{
  "nbformat": 4,
  "nbformat_minor": 0,
  "metadata": {
    "kernelspec": {
      "display_name": "Python 3",
      "language": "python",
      "name": "python3"
    },
    "language_info": {
      "codemirror_mode": {
        "name": "ipython",
        "version": 3
      },
      "file_extension": ".py",
      "mimetype": "text/x-python",
      "name": "python",
      "nbconvert_exporter": "python",
      "pygments_lexer": "ipython3",
      "version": "3.6.0"
    },
    "colab": {
      "name": "Integración con Scipy.ipynb",
      "provenance": [],
      "collapsed_sections": []
    }
  },
  "cells": [
    {
      "cell_type": "markdown",
      "source": [
        "#Integración con Scipy"
      ],
      "metadata": {
        "id": "kXTD3_reI4jF"
      }
    },
    {
      "cell_type": "markdown",
      "metadata": {
        "id": "s6D7GDw7jGwG"
      },
      "source": [
        "La densidad de una lámina cuadrada de 1 m x 1 m está dada por la función $ \\rho(x,y) = x + 2y$ $\\mathrm{kg/m^2}$.\n",
        "\n",
        "- Encuentre el momento de inercia de la lámina en el eje $y$ y el eje $x$.\n"
      ]
    },
    {
      "cell_type": "markdown",
      "source": [
        "El momento de inercia se calcula para cada eje como:\n",
        "\n",
        "$$ I_x = \\int\\int_{D}\\rho(x,y)y^2dydx$$\n",
        "$$ I_y = \\int\\int_{D}\\rho(x,y)x^2dydx$$\n",
        "\n",
        "Donde $D$ es la región que ocupa la lámina en el plano $xy$."
      ],
      "metadata": {
        "id": "-VpYx7F_JPuh"
      }
    },
    {
      "cell_type": "code",
      "metadata": {
        "id": "GYO0nkCHjQ_0",
        "colab": {
          "base_uri": "https://localhost:8080/"
        },
        "outputId": "df23babd-7257-4fbf-ce5f-d427fe11fee3"
      },
      "source": [
        "from scipy import integrate\n",
        "\n",
        "func = lambda x,y: (x+2*y)*y*y\n",
        "\n",
        "Ix = integrate.dblquad(func,0,1,0,1)\n",
        "print(Ix)"
      ],
      "execution_count": 2,
      "outputs": [
        {
          "output_type": "stream",
          "name": "stdout",
          "text": [
            "(0.6666666666666667, 2.7587162532063367e-14)\n"
          ]
        }
      ]
    },
    {
      "cell_type": "code",
      "metadata": {
        "colab": {
          "base_uri": "https://localhost:8080/"
        },
        "id": "XXhXM8cbDNQe",
        "outputId": "d21c6002-ecfe-48c2-b4f8-0fedb4299c47"
      },
      "source": [
        "funcy = lambda x,y: (x+2*y)*x*x\n",
        "\n",
        "Iy = integrate.dblquad(funcy,0,1,0,1)\n",
        "print(Iy)"
      ],
      "execution_count": 3,
      "outputs": [
        {
          "output_type": "stream",
          "name": "stdout",
          "text": [
            "(0.5833333333333333, 1.0160972667060798e-14)\n"
          ]
        }
      ]
    }
  ]
}